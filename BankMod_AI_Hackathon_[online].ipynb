{
  "nbformat": 4,
  "nbformat_minor": 0,
  "metadata": {
    "colab": {
      "provenance": []
    },
    "kernelspec": {
      "name": "python3",
      "display_name": "Python 3"
    },
    "language_info": {
      "name": "python"
    }
  },
  "cells": [
    {
      "cell_type": "code",
      "execution_count": 288,
      "metadata": {
        "id": "gnWelUHmG59M"
      },
      "outputs": [],
      "source": [
        "# !pip install opendatasets\n",
        "# import opendatasets as od\n",
        "# od.download(\"https://www.kaggle.com/competitions/cpe-ai-openhouse-loan-approval-prediction/overview\")"
      ]
    },
    {
      "cell_type": "code",
      "source": [
        "import numpy as np\n",
        "import pandas as pd\n",
        "import matplotlib.pyplot as plt\n",
        "import seaborn as sns\n",
        "import torch\n",
        "import torch.nn as nn\n",
        "import torch.nn.functional as F\n",
        "import torch.optim as optim\n",
        "from sklearn.model_selection import train_test_split\n",
        "from sklearn.preprocessing import MinMaxScaler"
      ],
      "metadata": {
        "id": "EGrdP5TjHUxl"
      },
      "execution_count": 289,
      "outputs": []
    },
    {
      "cell_type": "code",
      "source": [
        "train_df = pd.read_csv('/content/cpe-ai-openhouse-loan-approval-prediction/Loan Approval Prediction Data/train.csv')\n",
        "final_df = pd.read_csv('/content/cpe-ai-openhouse-loan-approval-prediction/Loan Approval Prediction Data/test.csv')"
      ],
      "metadata": {
        "id": "XuVQY_M0H0Lb"
      },
      "execution_count": 290,
      "outputs": []
    },
    {
      "cell_type": "code",
      "source": [
        "train_df.columns"
      ],
      "metadata": {
        "colab": {
          "base_uri": "https://localhost:8080/"
        },
        "collapsed": true,
        "id": "7HAIOVEgIRis",
        "outputId": "609b0d61-5637-4464-a333-62fc097684ee"
      },
      "execution_count": 291,
      "outputs": [
        {
          "output_type": "execute_result",
          "data": {
            "text/plain": [
              "Index(['id', 'person_age', 'person_income', 'person_home_ownership',\n",
              "       'person_emp_length', 'loan_intent', 'loan_grade', 'loan_amnt',\n",
              "       'loan_int_rate', 'loan_percent_income', 'cb_person_default_on_file',\n",
              "       'cb_person_cred_hist_length', 'loan_status'],\n",
              "      dtype='object')"
            ]
          },
          "metadata": {},
          "execution_count": 291
        }
      ]
    },
    {
      "cell_type": "code",
      "source": [
        "train_df = train_df.rename(columns={\n",
        "    'person_age': 'age',\n",
        "    'person_income' : 'income',\n",
        "    'person_home_ownership' : 'home',\n",
        "    'person_emp_length' : 'emp',\n",
        "    'loan_intent' : 'intent',\n",
        "    'loan_grade' : 'gra',\n",
        "    'loan_amnt' : 'amnt',\n",
        "    'loan_int_rate' : 'rate',\n",
        "    'loan_percent_income' : 'lo_income',\n",
        "    'cb_person_default_on_file' : 'file',\n",
        "    'cb_person_cred_hist_length' : 'cred',\n",
        "    'loan_status' : 'status'\n",
        "})\n",
        "\n",
        "final_df = final_df.rename(columns={\n",
        "    'person_age': 'age',\n",
        "    'person_income' : 'income',\n",
        "    'person_home_ownership' : 'home',\n",
        "    'person_emp_length' : 'emp',\n",
        "    'loan_intent' : 'intent',\n",
        "    'loan_grade' : 'gra',\n",
        "    'loan_amnt' : 'amnt',\n",
        "    'loan_int_rate' : 'rate',\n",
        "    'loan_percent_income' : 'lo_income',\n",
        "    'cb_person_default_on_file' : 'file',\n",
        "    'cb_person_cred_hist_length' : 'cred',\n",
        "})"
      ],
      "metadata": {
        "id": "KBvFUMBKIuYj"
      },
      "execution_count": 292,
      "outputs": []
    },
    {
      "cell_type": "code",
      "source": [
        "id_final = final_df.id\n",
        "final_df = final_df.drop(columns=['id'])\n",
        "train_df = train_df.drop(columns=['id'])"
      ],
      "metadata": {
        "id": "i4jDHnrKI5AD"
      },
      "execution_count": 293,
      "outputs": []
    },
    {
      "cell_type": "code",
      "source": [
        "train_df.info()"
      ],
      "metadata": {
        "colab": {
          "base_uri": "https://localhost:8080/"
        },
        "id": "DBMR8EsSJ05g",
        "outputId": "fa20a89e-b2e5-468b-c8fd-81ef89ef8506"
      },
      "execution_count": 294,
      "outputs": [
        {
          "output_type": "stream",
          "name": "stdout",
          "text": [
            "<class 'pandas.core.frame.DataFrame'>\n",
            "RangeIndex: 31640 entries, 0 to 31639\n",
            "Data columns (total 12 columns):\n",
            " #   Column     Non-Null Count  Dtype  \n",
            "---  ------     --------------  -----  \n",
            " 0   age        30772 non-null  float64\n",
            " 1   income     30786 non-null  float64\n",
            " 2   home       30766 non-null  object \n",
            " 3   emp        30804 non-null  float64\n",
            " 4   intent     30792 non-null  object \n",
            " 5   gra        30776 non-null  object \n",
            " 6   amnt       30770 non-null  float64\n",
            " 7   rate       30789 non-null  float64\n",
            " 8   lo_income  30770 non-null  float64\n",
            " 9   file       30776 non-null  object \n",
            " 10  cred       30766 non-null  float64\n",
            " 11  status     31640 non-null  int64  \n",
            "dtypes: float64(7), int64(1), object(4)\n",
            "memory usage: 2.9+ MB\n"
          ]
        }
      ]
    },
    {
      "cell_type": "code",
      "source": [
        "train_df = pd.get_dummies(train_df, columns=['home', 'intent', 'gra', 'file'], dtype=int)\n",
        "final_df = pd.get_dummies(final_df, columns=['home', 'intent', 'gra', 'file'], dtype=int)"
      ],
      "metadata": {
        "id": "QNhm7eUYJf4C"
      },
      "execution_count": 295,
      "outputs": []
    },
    {
      "cell_type": "code",
      "source": [
        "train_df = train_df.fillna(train_df.median())\n",
        "final_df = final_df.fillna(final_df.median())\n",
        "\n",
        "norm_train = MinMaxScaler().fit_transform(train_df)\n",
        "norm_final = MinMaxScaler().fit_transform(final_df)\n",
        "train_df = pd.DataFrame(norm_train, columns=train_df.columns)\n",
        "final_df = pd.DataFrame(norm_final, columns=final_df.columns)"
      ],
      "metadata": {
        "id": "Cl91gkf-K38y"
      },
      "execution_count": 296,
      "outputs": []
    },
    {
      "cell_type": "code",
      "source": [
        "cor = train_df.corr()\n",
        "plt.figure(figsize=(7,6))\n",
        "sns.heatmap(cor, annot=False, cmap='coolwarm')"
      ],
      "metadata": {
        "colab": {
          "base_uri": "https://localhost:8080/",
          "height": 730
        },
        "id": "_489TcBkL2cK",
        "outputId": "0dfb5830-bd16-403d-f88f-a66ccb1b7c99"
      },
      "execution_count": 297,
      "outputs": [
        {
          "output_type": "execute_result",
          "data": {
            "text/plain": [
              "<Axes: >"
            ]
          },
          "metadata": {},
          "execution_count": 297
        },
        {
          "output_type": "display_data",
          "data": {
            "text/plain": [
              "<Figure size 700x600 with 2 Axes>"
            ],
            "image/png": "[encoded data removed]"
          },
          "metadata": {}
        }
      ]
    },
    {
      "cell_type": "code",
      "source": [
        "values, counts = np.unique(train_df.status, return_counts=True)\n",
        "values, counts"
      ],
      "metadata": {
        "colab": {
          "base_uri": "https://localhost:8080/"
        },
        "id": "zARDRo3pYe-g",
        "outputId": "e4d90934-5e86-4a51-e9d6-73bbd919e8ae"
      },
      "execution_count": 298,
      "outputs": [
        {
          "output_type": "execute_result",
          "data": {
            "text/plain": [
              "(array([0., 1.]), array([23598,  8042]))"
            ]
          },
          "metadata": {},
          "execution_count": 298
        }
      ]
    },
    {
      "cell_type": "code",
      "source": [
        "y_train_df = train_df.status\n",
        "train_df = train_df.drop(columns=['status'])"
      ],
      "metadata": {
        "id": "J6HGHGOCMQss"
      },
      "execution_count": 299,
      "outputs": []
    },
    {
      "cell_type": "code",
      "source": [
        "x_train, x_val, y_train, y_val = train_test_split(train_df, y_train_df, test_size=0.2, random_state=42)\n",
        "x_val, x_test, y_val, y_test = train_test_split(x_val, y_val, test_size=0.5, random_state=42)"
      ],
      "metadata": {
        "id": "Jn4OrGGCMYXo"
      },
      "execution_count": 300,
      "outputs": []
    },
    {
      "cell_type": "code",
      "source": [
        "x_train = x_train.values.astype(np.float32)\n",
        "y_train = y_train.values.astype(np.float32).reshape(-1, 1)\n",
        "tensor_y_train = torch.tensor(y_train)\n",
        "\n",
        "x_val = x_val.values.astype(np.float32)\n",
        "y_val = y_val.values.astype(np.float32).reshape(-1, 1)\n",
        "tensor_y_val = torch.tensor(y_val)\n",
        "\n",
        "x_test = x_test.values.astype(np.float32)\n",
        "y_test = y_test.values.astype(np.float32).reshape(-1, 1)\n",
        "tensor_y_test = torch.tensor(y_test)\n",
        "\n",
        "x_final = final_df.values.astype(np.float32)"
      ],
      "metadata": {
        "id": "Zj9Ut28xNX2Z"
      },
      "execution_count": 301,
      "outputs": []
    },
    {
      "cell_type": "code",
      "source": [
        "train_df.info()"
      ],
      "metadata": {
        "colab": {
          "base_uri": "https://localhost:8080/"
        },
        "id": "d-HD_uhuO61D",
        "outputId": "43770a42-9250-4a15-d12a-4e020dad2b83"
      },
      "execution_count": 302,
      "outputs": [
        {
          "output_type": "stream",
          "name": "stdout",
          "text": [
            "<class 'pandas.core.frame.DataFrame'>\n",
            "RangeIndex: 31640 entries, 0 to 31639\n",
            "Data columns (total 26 columns):\n",
            " #   Column                    Non-Null Count  Dtype  \n",
            "---  ------                    --------------  -----  \n",
            " 0   age                       31640 non-null  float64\n",
            " 1   income                    31640 non-null  float64\n",
            " 2   emp                       31640 non-null  float64\n",
            " 3   amnt                      31640 non-null  float64\n",
            " 4   rate                      31640 non-null  float64\n",
            " 5   lo_income                 31640 non-null  float64\n",
            " 6   cred                      31640 non-null  float64\n",
            " 7   home_MORTGAGE             31640 non-null  float64\n",
            " 8   home_OTHER                31640 non-null  float64\n",
            " 9   home_OWN                  31640 non-null  float64\n",
            " 10  home_RENT                 31640 non-null  float64\n",
            " 11  intent_DEBTCONSOLIDATION  31640 non-null  float64\n",
            " 12  intent_EDUCATION          31640 non-null  float64\n",
            " 13  intent_HOMEIMPROVEMENT    31640 non-null  float64\n",
            " 14  intent_MEDICAL            31640 non-null  float64\n",
            " 15  intent_PERSONAL           31640 non-null  float64\n",
            " 16  intent_VENTURE            31640 non-null  float64\n",
            " 17  gra_A                     31640 non-null  float64\n",
            " 18  gra_B                     31640 non-null  float64\n",
            " 19  gra_C                     31640 non-null  float64\n",
            " 20  gra_D                     31640 non-null  float64\n",
            " 21  gra_E                     31640 non-null  float64\n",
            " 22  gra_F                     31640 non-null  float64\n",
            " 23  gra_G                     31640 non-null  float64\n",
            " 24  file_N                    31640 non-null  float64\n",
            " 25  file_Y                    31640 non-null  float64\n",
            "dtypes: float64(26)\n",
            "memory usage: 6.3 MB\n"
          ]
        }
      ]
    },
    {
      "cell_type": "code",
      "source": [
        "# num\n",
        "x_num_train = torch.tensor(x_train[:, :7])\n",
        "x_num_val = torch.tensor(x_val[:, :7])\n",
        "x_num_test = torch.tensor(x_test[:, :7])\n",
        "x_num_final = torch.tensor(x_final[:, :7])\n",
        "\n",
        "# categorical\n",
        "x_home_train = torch.tensor(x_train[:, 7:11])\n",
        "x_home_val = torch.tensor(x_val[:, 7:11])\n",
        "x_home_test = torch.tensor(x_test[:, 7:11])\n",
        "x_home_final = torch.tensor(x_final[:, 7:11])\n",
        "\n",
        "x_intent_train = torch.tensor(x_train[:, 11:17])\n",
        "x_intent_val = torch.tensor(x_val[:, 11:17])\n",
        "x_intent_test = torch.tensor(x_test[:, 11:17])\n",
        "x_intent_final = torch.tensor(x_final[:, 11:17])\n",
        "\n",
        "x_gra_train = torch.tensor(x_train[:, 17:24])\n",
        "x_gra_val = torch.tensor(x_val[:, 17:24])\n",
        "x_gra_test = torch.tensor(x_test[:, 17:24])\n",
        "x_gra_final = torch.tensor(x_final[:, 17:24])\n",
        "\n",
        "x_file_train = torch.tensor(x_train[:, 24:26])\n",
        "x_file_val = torch.tensor(x_val[:, 24:26])\n",
        "x_file_test = torch.tensor(x_test[:, 24:26])\n",
        "x_file_final = torch.tensor(x_final[:, 24:26])\n",
        "\n",
        "x_cate_trian = [x_home_train, x_intent_train, x_gra_train, x_file_train]\n",
        "x_cate_val = [x_home_val, x_intent_val, x_gra_val, x_file_val]\n",
        "x_cate_test = [x_home_test, x_intent_test, x_gra_test, x_file_test]\n",
        "x_cate_final = [x_home_final, x_intent_final, x_gra_final, x_file_final]"
      ],
      "metadata": {
        "id": "cc_VBKoPOrGc"
      },
      "execution_count": 303,
      "outputs": []
    },
    {
      "cell_type": "code",
      "source": [
        "class HybridMLP(nn.Module):\n",
        "  def __init__(self, numeric=7, cate=[4, 6, 7, 2]):\n",
        "    super(HybridMLP, self).__init__()\n",
        "    self.dropout = nn.Dropout(0.2)\n",
        "    self.act = nn.SiLU()\n",
        "\n",
        "    self.num_part = nn.Sequential(\n",
        "        nn.Linear(numeric, 256),\n",
        "        nn.BatchNorm1d(256),\n",
        "        self.act,\n",
        "        self.dropout,\n",
        "\n",
        "        nn.Linear(256, 128),\n",
        "        nn.BatchNorm1d(128),\n",
        "        self.act,\n",
        "        self.dropout,\n",
        "\n",
        "        nn.Linear(128, 64),\n",
        "        nn.BatchNorm1d(64),\n",
        "        self.act,\n",
        "        self.dropout,\n",
        "\n",
        "        nn.Linear(64, 32),\n",
        "        self.act\n",
        "    )\n",
        "\n",
        "    self.cate_part = nn.ModuleList([\n",
        "        nn.Sequential(\n",
        "            nn.Linear(size, 16),\n",
        "            nn.BatchNorm1d(16),\n",
        "            nn.Dropout(0.1),\n",
        "            self.act\n",
        "        )\n",
        "        for size in cate\n",
        "    ])\n",
        "\n",
        "    total_input = 32 + (len(cate) * 16)\n",
        "    self.fusion = nn.Sequential(\n",
        "        nn.Linear(total_input, 256),\n",
        "        nn.BatchNorm1d(256),\n",
        "        self.act,\n",
        "        self.dropout,\n",
        "\n",
        "        nn.Linear(256, 128),\n",
        "        nn.BatchNorm1d(128),\n",
        "        self.act,\n",
        "        self.dropout,\n",
        "\n",
        "        nn.Linear(128, 64),\n",
        "        nn.BatchNorm1d(64),\n",
        "        self.act,\n",
        "\n",
        "        nn.Linear(64, 1)\n",
        "    )\n",
        "\n",
        "  def forward(self, x_num, x_cate):\n",
        "    onehot_temp = []\n",
        "    for function, i in zip(self.cate_part, x_cate):\n",
        "      onehot_temp.append(function(i))\n",
        "\n",
        "    num_out = self.num_part(x_num)\n",
        "    cate_out = torch.cat(onehot_temp, dim=1)\n",
        "    out = torch.cat((num_out, cate_out), dim=1)\n",
        "\n",
        "    x = self.fusion(out)\n",
        "    return x"
      ],
      "metadata": {
        "id": "x-bIe6OMQ-jJ"
      },
      "execution_count": 304,
      "outputs": []
    },
    {
      "cell_type": "code",
      "source": [
        "def f1_macro(y_pred, y_true, threshold=0.5):\n",
        "    y_pred = y_pred.detach().cpu().numpy()\n",
        "    y_true = y_true.detach().cpu().numpy()\n",
        "    y_pred_class = (y_pred >= threshold).astype(int)\n",
        "\n",
        "    f1_scores = []\n",
        "    for cls in [0, 1]:\n",
        "        tp = np.sum((y_true == cls) & (y_pred_class == cls))\n",
        "        fp = np.sum((y_true != cls) & (y_pred_class == cls))\n",
        "        fn = np.sum((y_true == cls) & (y_pred_class != cls))\n",
        "\n",
        "        if (tp + fp == 0) or (tp + fn == 0):\n",
        "            f1 = 0.0\n",
        "        else:\n",
        "            precision = tp / (tp + fp)\n",
        "            recall = tp / (tp + fn)\n",
        "            f1 = 0.0 if (precision + recall == 0) else 2 * (precision * recall) / (precision + recall)\n",
        "\n",
        "        f1_scores.append(f1)\n",
        "\n",
        "    return np.mean(f1_scores)"
      ],
      "metadata": {
        "id": "vTl0JluiXnJN"
      },
      "execution_count": 305,
      "outputs": []
    },
    {
      "cell_type": "code",
      "source": [
        "pos_weight = torch.tensor([counts[0] / counts[1]], dtype=torch.float32)\n",
        "\n",
        "model = HybridMLP()\n",
        "error = nn.BCEWithLogitsLoss(pos_weight=pos_weight)\n",
        "optimizer = optim.AdamW(model.parameters(), lr=0.01)\n",
        "scheduler = optim.lr_scheduler.ReduceLROnPlateau(optimizer, patience=5, factor=0.5, min_lr=0.00005)\n",
        "\n",
        "col_F1_train, col_F1_val = [], []\n",
        "epoch, n = 100, 1\n",
        "for i in range(epoch):\n",
        "  # Train\n",
        "  model.train()\n",
        "  y_hat_train = model(x_num_train, x_cate_trian)\n",
        "  loss_BCE = error(y_hat_train, tensor_y_train)\n",
        "  loss_F1 = f1_macro(y_hat_train, tensor_y_train)\n",
        "\n",
        "  optimizer.zero_grad()\n",
        "  loss_BCE.backward()\n",
        "  optimizer.step()\n",
        "  with torch.no_grad():\n",
        "    y_hat = (y_hat_train > 0.5).float()\n",
        "    loss_F1 = f1_macro(y_hat, tensor_y_train)\n",
        "    col_F1_train.append(loss_F1.item())\n",
        "\n",
        "  # Validation\n",
        "  model.eval()\n",
        "  with torch.no_grad():\n",
        "    y_hat_val = model(x_num_val, x_cate_val)\n",
        "    y_hat = (y_hat_val > 0.5).float()\n",
        "    loss_BCE = error(y_hat, tensor_y_val)\n",
        "    loss_F1 = f1_macro(y_hat, tensor_y_val)\n",
        "    col_F1_val.append(loss_F1.item())\n",
        "    scheduler.step(loss_F1)\n",
        "\n",
        "  if i == (n-1):\n",
        "    print(f\"Epoch [{i+1}/{epoch}] | Loss(F1): {loss_F1:.4f} | Loss(BCE): {loss_BCE:.4f}\")\n",
        "    n += 1\n",
        "\n",
        "plt.figure(figsize=(12, 6))\n",
        "plt.grid()\n",
        "plt.plot(range(epoch), col_F1_train, label=\"Training F1\", color=\"blue\")\n",
        "plt.plot(range(epoch), col_F1_val, label=\"Validation F1\", color=\"red\")\n",
        "plt.title(f'F1 Macro {loss_F1}')\n",
        "plt.xlabel('Epoch')\n",
        "plt.ylabel('F1', rotation=0)\n",
        "plt.legend()\n",
        "\n",
        "plt.show()"
      ],
      "metadata": {
        "colab": {
          "base_uri": "https://localhost:8080/",
          "height": 1000
        },
        "id": "UJpMWANKXnyn",
        "outputId": "8b971b06-7da0-4d49-fc1e-45008f02279e"
      },
      "execution_count": 306,
      "outputs": [
        {
          "output_type": "stream",
          "name": "stdout",
          "text": [
            "Epoch [1/100] | Loss(F1): 0.4308 | Loss(BCE): 1.0190\n",
            "Epoch [2/100] | Loss(F1): 0.4308 | Loss(BCE): 1.0190\n",
            "Epoch [3/100] | Loss(F1): 0.4602 | Loss(BCE): 1.0115\n",
            "Epoch [4/100] | Loss(F1): 0.7229 | Loss(BCE): 0.9219\n",
            "Epoch [5/100] | Loss(F1): 0.7784 | Loss(BCE): 0.8902\n",
            "Epoch [6/100] | Loss(F1): 0.7716 | Loss(BCE): 0.8916\n",
            "Epoch [7/100] | Loss(F1): 0.7706 | Loss(BCE): 0.8911\n",
            "Epoch [8/100] | Loss(F1): 0.7773 | Loss(BCE): 0.8888\n",
            "Epoch [9/100] | Loss(F1): 0.7743 | Loss(BCE): 0.8925\n",
            "Epoch [10/100] | Loss(F1): 0.7745 | Loss(BCE): 0.8934\n",
            "Epoch [11/100] | Loss(F1): 0.7680 | Loss(BCE): 0.8978\n",
            "Epoch [12/100] | Loss(F1): 0.7667 | Loss(BCE): 0.8988\n",
            "Epoch [13/100] | Loss(F1): 0.7562 | Loss(BCE): 0.9047\n",
            "Epoch [14/100] | Loss(F1): 0.7434 | Loss(BCE): 0.9115\n",
            "Epoch [15/100] | Loss(F1): 0.7319 | Loss(BCE): 0.9171\n",
            "Epoch [16/100] | Loss(F1): 0.7212 | Loss(BCE): 0.9223\n",
            "Epoch [17/100] | Loss(F1): 0.7164 | Loss(BCE): 0.9244\n",
            "Epoch [18/100] | Loss(F1): 0.7126 | Loss(BCE): 0.9261\n",
            "Epoch [19/100] | Loss(F1): 0.7107 | Loss(BCE): 0.9270\n",
            "Epoch [20/100] | Loss(F1): 0.7088 | Loss(BCE): 0.9278\n",
            "Epoch [21/100] | Loss(F1): 0.7095 | Loss(BCE): 0.9275\n",
            "Epoch [22/100] | Loss(F1): 0.7088 | Loss(BCE): 0.9279\n",
            "Epoch [23/100] | Loss(F1): 0.7159 | Loss(BCE): 0.9245\n",
            "Epoch [24/100] | Loss(F1): 0.7182 | Loss(BCE): 0.9235\n",
            "Epoch [25/100] | Loss(F1): 0.7248 | Loss(BCE): 0.9204\n",
            "Epoch [26/100] | Loss(F1): 0.7326 | Loss(BCE): 0.9166\n",
            "Epoch [27/100] | Loss(F1): 0.7396 | Loss(BCE): 0.9132\n",
            "Epoch [28/100] | Loss(F1): 0.7419 | Loss(BCE): 0.9121\n",
            "Epoch [29/100] | Loss(F1): 0.7473 | Loss(BCE): 0.9093\n",
            "Epoch [30/100] | Loss(F1): 0.7518 | Loss(BCE): 0.9070\n",
            "Epoch [31/100] | Loss(F1): 0.7549 | Loss(BCE): 0.9054\n",
            "Epoch [32/100] | Loss(F1): 0.7603 | Loss(BCE): 0.9025\n",
            "Epoch [33/100] | Loss(F1): 0.7613 | Loss(BCE): 0.9019\n",
            "Epoch [34/100] | Loss(F1): 0.7654 | Loss(BCE): 0.8996\n",
            "Epoch [35/100] | Loss(F1): 0.7654 | Loss(BCE): 0.8996\n",
            "Epoch [36/100] | Loss(F1): 0.7667 | Loss(BCE): 0.8988\n",
            "Epoch [37/100] | Loss(F1): 0.7682 | Loss(BCE): 0.8979\n",
            "Epoch [38/100] | Loss(F1): 0.7760 | Loss(BCE): 0.8932\n",
            "Epoch [39/100] | Loss(F1): 0.7772 | Loss(BCE): 0.8924\n",
            "Epoch [40/100] | Loss(F1): 0.7780 | Loss(BCE): 0.8918\n",
            "Epoch [41/100] | Loss(F1): 0.7767 | Loss(BCE): 0.8925\n",
            "Epoch [42/100] | Loss(F1): 0.7775 | Loss(BCE): 0.8918\n",
            "Epoch [43/100] | Loss(F1): 0.7814 | Loss(BCE): 0.8893\n",
            "Epoch [44/100] | Loss(F1): 0.7796 | Loss(BCE): 0.8902\n",
            "Epoch [45/100] | Loss(F1): 0.7816 | Loss(BCE): 0.8889\n",
            "Epoch [46/100] | Loss(F1): 0.7823 | Loss(BCE): 0.8882\n",
            "Epoch [47/100] | Loss(F1): 0.7819 | Loss(BCE): 0.8883\n",
            "Epoch [48/100] | Loss(F1): 0.7852 | Loss(BCE): 0.8861\n",
            "Epoch [49/100] | Loss(F1): 0.7865 | Loss(BCE): 0.8851\n",
            "Epoch [50/100] | Loss(F1): 0.7885 | Loss(BCE): 0.8838\n",
            "Epoch [51/100] | Loss(F1): 0.7874 | Loss(BCE): 0.8843\n",
            "Epoch [52/100] | Loss(F1): 0.7873 | Loss(BCE): 0.8842\n",
            "Epoch [53/100] | Loss(F1): 0.7844 | Loss(BCE): 0.8858\n",
            "Epoch [54/100] | Loss(F1): 0.7842 | Loss(BCE): 0.8857\n",
            "Epoch [55/100] | Loss(F1): 0.7829 | Loss(BCE): 0.8863\n",
            "Epoch [56/100] | Loss(F1): 0.7826 | Loss(BCE): 0.8864\n",
            "Epoch [57/100] | Loss(F1): 0.7842 | Loss(BCE): 0.8851\n",
            "Epoch [58/100] | Loss(F1): 0.7846 | Loss(BCE): 0.8847\n",
            "Epoch [59/100] | Loss(F1): 0.7838 | Loss(BCE): 0.8850\n",
            "Epoch [60/100] | Loss(F1): 0.7850 | Loss(BCE): 0.8842\n",
            "Epoch [61/100] | Loss(F1): 0.7846 | Loss(BCE): 0.8843\n",
            "Epoch [62/100] | Loss(F1): 0.7856 | Loss(BCE): 0.8835\n",
            "Epoch [63/100] | Loss(F1): 0.7849 | Loss(BCE): 0.8839\n",
            "Epoch [64/100] | Loss(F1): 0.7856 | Loss(BCE): 0.8833\n",
            "Epoch [65/100] | Loss(F1): 0.7855 | Loss(BCE): 0.8834\n",
            "Epoch [66/100] | Loss(F1): 0.7853 | Loss(BCE): 0.8834\n",
            "Epoch [67/100] | Loss(F1): 0.7858 | Loss(BCE): 0.8831\n",
            "Epoch [68/100] | Loss(F1): 0.7851 | Loss(BCE): 0.8835\n",
            "Epoch [69/100] | Loss(F1): 0.7856 | Loss(BCE): 0.8831\n",
            "Epoch [70/100] | Loss(F1): 0.7847 | Loss(BCE): 0.8837\n",
            "Epoch [71/100] | Loss(F1): 0.7843 | Loss(BCE): 0.8839\n",
            "Epoch [72/100] | Loss(F1): 0.7840 | Loss(BCE): 0.8841\n",
            "Epoch [73/100] | Loss(F1): 0.7830 | Loss(BCE): 0.8847\n",
            "Epoch [74/100] | Loss(F1): 0.7840 | Loss(BCE): 0.8840\n",
            "Epoch [75/100] | Loss(F1): 0.7840 | Loss(BCE): 0.8840\n",
            "Epoch [76/100] | Loss(F1): 0.7842 | Loss(BCE): 0.8838\n",
            "Epoch [77/100] | Loss(F1): 0.7836 | Loss(BCE): 0.8842\n",
            "Epoch [78/100] | Loss(F1): 0.7832 | Loss(BCE): 0.8844\n",
            "Epoch [79/100] | Loss(F1): 0.7829 | Loss(BCE): 0.8846\n",
            "Epoch [80/100] | Loss(F1): 0.7829 | Loss(BCE): 0.8846\n",
            "Epoch [81/100] | Loss(F1): 0.7829 | Loss(BCE): 0.8846\n",
            "Epoch [82/100] | Loss(F1): 0.7834 | Loss(BCE): 0.8842\n",
            "Epoch [83/100] | Loss(F1): 0.7834 | Loss(BCE): 0.8842\n",
            "Epoch [84/100] | Loss(F1): 0.7834 | Loss(BCE): 0.8842\n",
            "Epoch [85/100] | Loss(F1): 0.7834 | Loss(BCE): 0.8842\n",
            "Epoch [86/100] | Loss(F1): 0.7834 | Loss(BCE): 0.8842\n",
            "Epoch [87/100] | Loss(F1): 0.7831 | Loss(BCE): 0.8844\n",
            "Epoch [88/100] | Loss(F1): 0.7831 | Loss(BCE): 0.8844\n",
            "Epoch [89/100] | Loss(F1): 0.7831 | Loss(BCE): 0.8844\n",
            "Epoch [90/100] | Loss(F1): 0.7827 | Loss(BCE): 0.8846\n",
            "Epoch [91/100] | Loss(F1): 0.7827 | Loss(BCE): 0.8846\n",
            "Epoch [92/100] | Loss(F1): 0.7827 | Loss(BCE): 0.8846\n",
            "Epoch [93/100] | Loss(F1): 0.7824 | Loss(BCE): 0.8848\n",
            "Epoch [94/100] | Loss(F1): 0.7824 | Loss(BCE): 0.8848\n",
            "Epoch [95/100] | Loss(F1): 0.7821 | Loss(BCE): 0.8850\n",
            "Epoch [96/100] | Loss(F1): 0.7821 | Loss(BCE): 0.8850\n",
            "Epoch [97/100] | Loss(F1): 0.7821 | Loss(BCE): 0.8850\n",
            "Epoch [98/100] | Loss(F1): 0.7821 | Loss(BCE): 0.8850\n",
            "Epoch [99/100] | Loss(F1): 0.7821 | Loss(BCE): 0.8850\n",
            "Epoch [100/100] | Loss(F1): 0.7826 | Loss(BCE): 0.8847\n"
          ]
        },
        {
          "output_type": "display_data",
          "data": {
            "text/plain": [
              "<Figure size 1200x600 with 1 Axes>"
            ],
            "image/png": "[encoded data removed]"
          },
          "metadata": {}
        }
      ]
    },
    {
      "cell_type": "code",
      "source": [
        "# Test\n",
        "with torch.no_grad():\n",
        "  y_hat_test = model(x_num_test, x_cate_test)\n",
        "  y_hat_test = (y_hat_test > 0.5).float()\n",
        "  loss_F1_test = f1_macro(y_hat_test, tensor_y_test)\n",
        "print(f'Loss F1 : {loss_F1_test}')\n",
        "\n",
        "torch.save(model.state_dict(), f\"My_weight {loss_F1_test}.pth\")"
      ],
      "metadata": {
        "colab": {
          "base_uri": "https://localhost:8080/"
        },
        "id": "0YRetGfBdGNj",
        "outputId": "557aafa9-2bec-40d1-faa5-34a468da9c98"
      },
      "execution_count": 308,
      "outputs": [
        {
          "output_type": "stream",
          "name": "stdout",
          "text": [
            "Loss F1 : 0.7825282211963114\n"
          ]
        }
      ]
    },
    {
      "cell_type": "code",
      "source": [
        "# Final\n",
        "with torch.no_grad():\n",
        "  y_hat = model(x_num_final, x_cate_final)\n",
        "  y_hat = (y_hat > 0.5).float()\n",
        "  y_hat = y_hat.squeeze().numpy().astype(int)\n",
        "y_hat = pd.DataFrame(y_hat)\n",
        "\n",
        "summarize = pd.concat([id_final, y_hat], axis=1)\n",
        "summarize.columns = ['id', 'loan_status']\n",
        "summarize.to_csv('My_Answer.csv', index=False)\n",
        "print(summarize['loan_status'].unique())\n",
        "summarize"
      ],
      "metadata": {
        "colab": {
          "base_uri": "https://localhost:8080/",
          "height": 441
        },
        "id": "ZBNl1acbdNGM",
        "outputId": "0f9ea957-db1a-4a38-f484-4e1821932a0f"
      },
      "execution_count": 309,
      "outputs": [
        {
          "output_type": "stream",
          "name": "stdout",
          "text": [
            "[0 1]\n"
          ]
        },
        {
          "output_type": "execute_result",
          "data": {
            "text/plain": [
              "         id  loan_status\n",
              "0     31641            0\n",
              "1     31642            1\n",
              "2     31643            0\n",
              "3     31644            1\n",
              "4     31645            0\n",
              "...     ...          ...\n",
              "7905  39546            0\n",
              "7906  39547            1\n",
              "7907  39548            0\n",
              "7908  39549            1\n",
              "7909  39550            0\n",
              "\n",
              "[7910 rows x 2 columns]"
            ],
            "text/html": [
              "\n",
              "  <div id=\"df-099225e4-0419-45f8-b9af-7e0afea5590e\" class=\"colab-df-container\">\n",
              "    <div>\n",
              "<style scoped>\n",
              "    .dataframe tbody tr th:only-of-type {\n",
              "        vertical-align: middle;\n",
              "    }\n",
              "\n",
              "    .dataframe tbody tr th {\n",
              "        vertical-align: top;\n",
              "    }\n",
              "\n",
              "    .dataframe thead th {\n",
              "        text-align: right;\n",
              "    }\n",
              "</style>\n",
              "<table border=\"1\" class=\"dataframe\">\n",
              "  <thead>\n",
              "    <tr style=\"text-align: right;\">\n",
              "      <th></th>\n",
              "      <th>id</th>\n",
              "      <th>loan_status</th>\n",
              "    </tr>\n",
              "  </thead>\n",
              "  <tbody>\n",
              "    <tr>\n",
              "      <th>0</th>\n",
              "      <td>31641</td>\n",
              "      <td>0</td>\n",
              "    </tr>\n",
              "    <tr>\n",
              "      <th>1</th>\n",
              "      <td>31642</td>\n",
              "      <td>1</td>\n",
              "    </tr>\n",
              "    <tr>\n",
              "      <th>2</th>\n",
              "      <td>31643</td>\n",
              "      <td>0</td>\n",
              "    </tr>\n",
              "    <tr>\n",
              "      <th>3</th>\n",
              "      <td>31644</td>\n",
              "      <td>1</td>\n",
              "    </tr>\n",
              "    <tr>\n",
              "      <th>4</th>\n",
              "      <td>31645</td>\n",
              "      <td>0</td>\n",
              "    </tr>\n",
              "    <tr>\n",
              "      <th>...</th>\n",
              "      <td>...</td>\n",
              "      <td>...</td>\n",
              "    </tr>\n",
              "    <tr>\n",
              "      <th>7905</th>\n",
              "      <td>39546</td>\n",
              "      <td>0</td>\n",
              "    </tr>\n",
              "    <tr>\n",
              "      <th>7906</th>\n",
              "      <td>39547</td>\n",
              "      <td>1</td>\n",
              "    </tr>\n",
              "    <tr>\n",
              "      <th>7907</th>\n",
              "      <td>39548</td>\n",
              "      <td>0</td>\n",
              "    </tr>\n",
              "    <tr>\n",
              "      <th>7908</th>\n",
              "      <td>39549</td>\n",
              "      <td>1</td>\n",
              "    </tr>\n",
              "    <tr>\n",
              "      <th>7909</th>\n",
              "      <td>39550</td>\n",
              "      <td>0</td>\n",
              "    </tr>\n",
              "  </tbody>\n",
              "</table>\n",
              "<p>7910 rows × 2 columns</p>\n",
              "</div>\n",
              "    <div class=\"colab-df-buttons\">\n",
              "\n",
              "  <div class=\"colab-df-container\">\n",
              "    <button class=\"colab-df-convert\" onclick=\"convertToInteractive('df-099225e4-0419-45f8-b9af-7e0afea5590e')\"\n",
              "            title=\"Convert this dataframe to an interactive table.\"\n",
              "            style=\"display:none;\">\n",
              "\n",
              "  <svg xmlns=\"http://www.w3.org/2000/svg\" height=\"24px\" viewBox=\"0 -960 960 960\">\n",
              "    <path d=\"M120-120v-720h720v720H120Zm60-500h600v-160H180v160Zm220 220h160v-160H400v160Zm0 220h160v-160H400v160ZM180-400h160v-160H180v160Zm440 0h160v-160H620v160ZM180-180h160v-160H180v160Zm440 0h160v-160H620v160Z\"/>\n",
              "  </svg>\n",
              "    </button>\n",
              "\n",
              "  <style>\n",
              "    .colab-df-container {\n",
              "      display:flex;\n",
              "      gap: 12px;\n",
              "    }\n",
              "\n",
              "    .colab-df-convert {\n",
              "      background-color: #E8F0FE;\n",
              "      border: none;\n",
              "      border-radius: 50%;\n",
              "      cursor: pointer;\n",
              "      display: none;\n",
              "      fill: #1967D2;\n",
              "      height: 32px;\n",
              "      padding: 0 0 0 0;\n",
              "      width: 32px;\n",
              "    }\n",
              "\n",
              "    .colab-df-convert:hover {\n",
              "      background-color: #E2EBFA;\n",
              "      box-shadow: 0px 1px 2px rgba(60, 64, 67, 0.3), 0px 1px 3px 1px rgba(60, 64, 67, 0.15);\n",
              "      fill: #174EA6;\n",
              "    }\n",
              "\n",
              "    .colab-df-buttons div {\n",
              "      margin-bottom: 4px;\n",
              "    }\n",
              "\n",
              "    [theme=dark] .colab-df-convert {\n",
              "      background-color: #3B4455;\n",
              "      fill: #D2E3FC;\n",
              "    }\n",
              "\n",
              "    [theme=dark] .colab-df-convert:hover {\n",
              "      background-color: #434B5C;\n",
              "      box-shadow: 0px 1px 3px 1px rgba(0, 0, 0, 0.15);\n",
              "      filter: drop-shadow(0px 1px 2px rgba(0, 0, 0, 0.3));\n",
              "      fill: #FFFFFF;\n",
              "    }\n",
              "  </style>\n",
              "\n",
              "    <script>\n",
              "      const buttonEl =\n",
              "        document.querySelector('#df-099225e4-0419-45f8-b9af-7e0afea5590e button.colab-df-convert');\n",
              "      buttonEl.style.display =\n",
              "        google.colab.kernel.accessAllowed ? 'block' : 'none';\n",
              "\n",
              "      async function convertToInteractive(key) {\n",
              "        const element = document.querySelector('#df-099225e4-0419-45f8-b9af-7e0afea5590e');\n",
              "        const dataTable =\n",
              "          await google.colab.kernel.invokeFunction('convertToInteractive',\n",
              "                                                    [key], {});\n",
              "        if (!dataTable) return;\n",
              "\n",
              "        const docLinkHtml = 'Like what you see? Visit the ' +\n",
              "          '<a target=\"_blank\" href=https://colab.research.google.com/notebooks/data_table.ipynb>data table notebook</a>'\n",
              "          + ' to learn more about interactive tables.';\n",
              "        element.innerHTML = '';\n",
              "        dataTable['output_type'] = 'display_data';\n",
              "        await google.colab.output.renderOutput(dataTable, element);\n",
              "        const docLink = document.createElement('div');\n",
              "        docLink.innerHTML = docLinkHtml;\n",
              "        element.appendChild(docLink);\n",
              "      }\n",
              "    </script>\n",
              "  </div>\n",
              "\n",
              "\n",
              "    <div id=\"df-139ee425-7354-4d92-959c-953b1076ae6f\">\n",
              "      <button class=\"colab-df-quickchart\" onclick=\"quickchart('df-139ee425-7354-4d92-959c-953b1076ae6f')\"\n",
              "                title=\"Suggest charts\"\n",
              "                style=\"display:none;\">\n",
              "\n",
              "<svg xmlns=\"http://www.w3.org/2000/svg\" height=\"24px\"viewBox=\"0 0 24 24\"\n",
              "     width=\"24px\">\n",
              "    <g>\n",
              "        <path d=\"M19 3H5c-1.1 0-2 .9-2 2v14c0 1.1.9 2 2 2h14c1.1 0 2-.9 2-2V5c0-1.1-.9-2-2-2zM9 17H7v-7h2v7zm4 0h-2V7h2v10zm4 0h-2v-4h2v4z\"/>\n",
              "    </g>\n",
              "</svg>\n",
              "      </button>\n",
              "\n",
              "<style>\n",
              "  .colab-df-quickchart {\n",
              "      --bg-color: #E8F0FE;\n",
              "      --fill-color: #1967D2;\n",
              "      --hover-bg-color: #E2EBFA;\n",
              "      --hover-fill-color: #174EA6;\n",
              "      --disabled-fill-color: #AAA;\n",
              "      --disabled-bg-color: #DDD;\n",
              "  }\n",
              "\n",
              "  [theme=dark] .colab-df-quickchart {\n",
              "      --bg-color: #3B4455;\n",
              "      --fill-color: #D2E3FC;\n",
              "      --hover-bg-color: #434B5C;\n",
              "      --hover-fill-color: #FFFFFF;\n",
              "      --disabled-bg-color: #3B4455;\n",
              "      --disabled-fill-color: #666;\n",
              "  }\n",
              "\n",
              "  .colab-df-quickchart {\n",
              "    background-color: var(--bg-color);\n",
              "    border: none;\n",
              "    border-radius: 50%;\n",
              "    cursor: pointer;\n",
              "    display: none;\n",
              "    fill: var(--fill-color);\n",
              "    height: 32px;\n",
              "    padding: 0;\n",
              "    width: 32px;\n",
              "  }\n",
              "\n",
              "  .colab-df-quickchart:hover {\n",
              "    background-color: var(--hover-bg-color);\n",
              "    box-shadow: 0 1px 2px rgba(60, 64, 67, 0.3), 0 1px 3px 1px rgba(60, 64, 67, 0.15);\n",
              "    fill: var(--button-hover-fill-color);\n",
              "  }\n",
              "\n",
              "  .colab-df-quickchart-complete:disabled,\n",
              "  .colab-df-quickchart-complete:disabled:hover {\n",
              "    background-color: var(--disabled-bg-color);\n",
              "    fill: var(--disabled-fill-color);\n",
              "    box-shadow: none;\n",
              "  }\n",
              "\n",
              "  .colab-df-spinner {\n",
              "    border: 2px solid var(--fill-color);\n",
              "    border-color: transparent;\n",
              "    border-bottom-color: var(--fill-color);\n",
              "    animation:\n",
              "      spin 1s steps(1) infinite;\n",
              "  }\n",
              "\n",
              "  @keyframes spin {\n",
              "    0% {\n",
              "      border-color: transparent;\n",
              "      border-bottom-color: var(--fill-color);\n",
              "      border-left-color: var(--fill-color);\n",
              "    }\n",
              "    20% {\n",
              "      border-color: transparent;\n",
              "      border-left-color: var(--fill-color);\n",
              "      border-top-color: var(--fill-color);\n",
              "    }\n",
              "    30% {\n",
              "      border-color: transparent;\n",
              "      border-left-color: var(--fill-color);\n",
              "      border-top-color: var(--fill-color);\n",
              "      border-right-color: var(--fill-color);\n",
              "    }\n",
              "    40% {\n",
              "      border-color: transparent;\n",
              "      border-right-color: var(--fill-color);\n",
              "      border-top-color: var(--fill-color);\n",
              "    }\n",
              "    60% {\n",
              "      border-color: transparent;\n",
              "      border-right-color: var(--fill-color);\n",
              "    }\n",
              "    80% {\n",
              "      border-color: transparent;\n",
              "      border-right-color: var(--fill-color);\n",
              "      border-bottom-color: var(--fill-color);\n",
              "    }\n",
              "    90% {\n",
              "      border-color: transparent;\n",
              "      border-bottom-color: var(--fill-color);\n",
              "    }\n",
              "  }\n",
              "</style>\n",
              "\n",
              "      <script>\n",
              "        async function quickchart(key) {\n",
              "          const quickchartButtonEl =\n",
              "            document.querySelector('#' + key + ' button');\n",
              "          quickchartButtonEl.disabled = true;  // To prevent multiple clicks.\n",
              "          quickchartButtonEl.classList.add('colab-df-spinner');\n",
              "          try {\n",
              "            const charts = await google.colab.kernel.invokeFunction(\n",
              "                'suggestCharts', [key], {});\n",
              "          } catch (error) {\n",
              "            console.error('Error during call to suggestCharts:', error);\n",
              "          }\n",
              "          quickchartButtonEl.classList.remove('colab-df-spinner');\n",
              "          quickchartButtonEl.classList.add('colab-df-quickchart-complete');\n",
              "        }\n",
              "        (() => {\n",
              "          let quickchartButtonEl =\n",
              "            document.querySelector('#df-139ee425-7354-4d92-959c-953b1076ae6f button');\n",
              "          quickchartButtonEl.style.display =\n",
              "            google.colab.kernel.accessAllowed ? 'block' : 'none';\n",
              "        })();\n",
              "      </script>\n",
              "    </div>\n",
              "\n",
              "  <div id=\"id_c1805075-0bc8-427e-864c-269b71d598e0\">\n",
              "    <style>\n",
              "      .colab-df-generate {\n",
              "        background-color: #E8F0FE;\n",
              "        border: none;\n",
              "        border-radius: 50%;\n",
              "        cursor: pointer;\n",
              "        display: none;\n",
              "        fill: #1967D2;\n",
              "        height: 32px;\n",
              "        padding: 0 0 0 0;\n",
              "        width: 32px;\n",
              "      }\n",
              "\n",
              "      .colab-df-generate:hover {\n",
              "        background-color: #E2EBFA;\n",
              "        box-shadow: 0px 1px 2px rgba(60, 64, 67, 0.3), 0px 1px 3px 1px rgba(60, 64, 67, 0.15);\n",
              "        fill: #174EA6;\n",
              "      }\n",
              "\n",
              "      [theme=dark] .colab-df-generate {\n",
              "        background-color: #3B4455;\n",
              "        fill: #D2E3FC;\n",
              "      }\n",
              "\n",
              "      [theme=dark] .colab-df-generate:hover {\n",
              "        background-color: #434B5C;\n",
              "        box-shadow: 0px 1px 3px 1px rgba(0, 0, 0, 0.15);\n",
              "        filter: drop-shadow(0px 1px 2px rgba(0, 0, 0, 0.3));\n",
              "        fill: #FFFFFF;\n",
              "      }\n",
              "    </style>\n",
              "    <button class=\"colab-df-generate\" onclick=\"generateWithVariable('summarize')\"\n",
              "            title=\"Generate code using this dataframe.\"\n",
              "            style=\"display:none;\">\n",
              "\n",
              "  <svg xmlns=\"http://www.w3.org/2000/svg\" height=\"24px\"viewBox=\"0 0 24 24\"\n",
              "       width=\"24px\">\n",
              "    <path d=\"M7,19H8.4L18.45,9,17,7.55,7,17.6ZM5,21V16.75L18.45,3.32a2,2,0,0,1,2.83,0l1.4,1.43a1.91,1.91,0,0,1,.58,1.4,1.91,1.91,0,0,1-.58,1.4L9.25,21ZM18.45,9,17,7.55Zm-12,3A5.31,5.31,0,0,0,4.9,8.1,5.31,5.31,0,0,0,1,6.5,5.31,5.31,0,0,0,4.9,4.9,5.31,5.31,0,0,0,6.5,1,5.31,5.31,0,0,0,8.1,4.9,5.31,5.31,0,0,0,12,6.5,5.46,5.46,0,0,0,6.5,12Z\"/>\n",
              "  </svg>\n",
              "    </button>\n",
              "    <script>\n",
              "      (() => {\n",
              "      const buttonEl =\n",
              "        document.querySelector('#id_c1805075-0bc8-427e-864c-269b71d598e0 button.colab-df-generate');\n",
              "      buttonEl.style.display =\n",
              "        google.colab.kernel.accessAllowed ? 'block' : 'none';\n",
              "\n",
              "      buttonEl.onclick = () => {\n",
              "        google.colab.notebook.generateWithVariable('summarize');\n",
              "      }\n",
              "      })();\n",
              "    </script>\n",
              "  </div>\n",
              "\n",
              "    </div>\n",
              "  </div>\n"
            ],
            "application/vnd.google.colaboratory.intrinsic+json": {
              "type": "dataframe",
              "variable_name": "summarize",
              "summary": "{\n  \"name\": \"summarize\",\n  \"rows\": 7910,\n  \"fields\": [\n    {\n      \"column\": \"id\",\n      \"properties\": {\n        \"dtype\": \"number\",\n        \"std\": 2283,\n        \"min\": 31641,\n        \"max\": 39550,\n        \"num_unique_values\": 7910,\n        \"samples\": [\n          34456,\n          37174,\n          36195\n        ],\n        \"semantic_type\": \"\",\n        \"description\": \"\"\n      }\n    },\n    {\n      \"column\": \"loan_status\",\n      \"properties\": {\n        \"dtype\": \"number\",\n        \"std\": 0,\n        \"min\": 0,\n        \"max\": 1,\n        \"num_unique_values\": 2,\n        \"samples\": [\n          1,\n          0\n        ],\n        \"semantic_type\": \"\",\n        \"description\": \"\"\n      }\n    }\n  ]\n}"
            }
          },
          "metadata": {},
          "execution_count": 309
        }
      ]
    }
  ]
}